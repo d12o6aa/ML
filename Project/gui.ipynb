{
 "cells": [
  {
   "cell_type": "code",
   "execution_count": 25,
   "metadata": {},
   "outputs": [],
   "source": [
    "import tkinter as tk\n",
    "from tkinter import Label, Button\n",
    "import cv2\n",
    "import threading\n",
    "import numpy as np\n",
    "from tensorflow.keras.models import load_model\n",
    "model = load_model('/home/doaa/programming/ML/Project/ModelTesting/model_file_30epochs.h5')\n",
    "import sys\n",
    "# sys.stdout.reconfigure(encoding='utf-8')"
   ]
  },
  {
   "cell_type": "code",
   "execution_count": 26,
   "metadata": {},
   "outputs": [],
   "source": [
    "def open_camera():\n",
    "    global cap\n",
    "    cap = cv2.VideoCapture(0)\n",
    "    faceDetect=cv2.CascadeClassifier('/home/doaa/programming/ML/Project/ModelTesting/haarcascade_frontalface_default.xml')\n",
    "\n",
    "    labels_dict={0:'Angry',1:'Disgust', 2:'Fear', 3:'Happy',4:'Neutral',5:'Sad',6:'Surprise'}\n",
    "    if not cap.isOpened():\n",
    "        print(\"Unable to open the camera\")\n",
    "    else:\n",
    "        print(\"Camera open successfully\")\n",
    "    while cap.isOpened():\n",
    "        ret, frame = cap.read()\n",
    "        gray=cv2.cvtColor(frame, cv2.COLOR_BGR2GRAY)\n",
    "        faces= faceDetect.detectMultiScale(gray, 1.3, 3)\n",
    "        for x,y,w,h in faces:\n",
    "            sub_face_img=gray[y:y+h, x:x+w]\n",
    "            resized=cv2.resize(sub_face_img,(48,48))\n",
    "            normalize=resized/255.0\n",
    "            reshaped=np.reshape(normalize, (1, 48, 48, 1))\n",
    "            result=model.predict(reshaped)\n",
    "            label=np.argmax(result, axis=1)[0]\n",
    "            print(label)\n",
    "            cv2.rectangle(frame, (x,y), (x+w, y+h), (0,0,255), 1)\n",
    "            cv2.rectangle(frame,(x,y),(x+w,y+h),(50,50,255),2)\n",
    "            cv2.rectangle(frame,(x,y-40),(x+w,y),(50,50,255),-1)\n",
    "            cv2.putText(frame, labels_dict[label], (x, y-10),cv2.FONT_HERSHEY_SIMPLEX,0.8,(255,255,255),2)\n",
    "        # if ret :\n",
    "        cv2.imshow(\"Camera\", frame)\n",
    "        k=cv2.waitKey(1)\n",
    "        if k==ord('q'):\n",
    "            break\n",
    "    cap.release()\n",
    "    cv2.destroyAllWindows()"
   ]
  },
  {
   "cell_type": "code",
   "execution_count": 27,
   "metadata": {},
   "outputs": [],
   "source": [
    "def close_camera():\n",
    "    global cap\n",
    "    if cap.isOpened():\n",
    "        cap.release()\n",
    "    cv2.destroyAllWindows()"
   ]
  },
  {
   "cell_type": "code",
   "execution_count": 28,
   "metadata": {},
   "outputs": [
    {
     "data": {
      "text/plain": [
       "''"
      ]
     },
     "execution_count": 28,
     "metadata": {},
     "output_type": "execute_result"
    }
   ],
   "source": [
    "root = tk.Tk()\n",
    "root.title(\"ComSoc\")\n"
   ]
  },
  {
   "cell_type": "code",
   "execution_count": 29,
   "metadata": {},
   "outputs": [],
   "source": [
    "photo = tk.PhotoImage(file=\"/home/doaa/programming/ML/Project/download11.png\")\n",
    "label = tk.Label(root,image=photo)\n",
    "label.image = photo\n",
    "label.pack()"
   ]
  },
  {
   "cell_type": "code",
   "execution_count": 30,
   "metadata": {},
   "outputs": [],
   "source": [
    "btn_open = Button(root,text=\"Open Camera\",\n",
    "                  command=lambda:threading.Thread(target=open_camera).start())\n",
    "btn_open.pack()"
   ]
  },
  {
   "cell_type": "code",
   "execution_count": 31,
   "metadata": {},
   "outputs": [],
   "source": [
    "btn_close = Button(root,\n",
    "                   text=\"Close Camera\",\n",
    "                   command=close_camera)\n",
    "btn_close.pack()"
   ]
  },
  {
   "cell_type": "code",
   "execution_count": 32,
   "metadata": {},
   "outputs": [
    {
     "name": "stdout",
     "output_type": "stream",
     "text": [
      "Camera open successfully\n",
      "1/1 [==============================] - 0s 111ms/step\n",
      "3\n"
     ]
    },
    {
     "name": "stderr",
     "output_type": "stream",
     "text": [
      "[ WARN:23@481.767] global cap_v4l.cpp:999 open VIDEOIO(V4L2:/dev/video0): can't open camera by index\n",
      "[ERROR:23@481.767] global obsensor_uvc_stream_channel.cpp:158 getStreamChannelGroup Camera index out of range\n"
     ]
    },
    {
     "name": "stdout",
     "output_type": "stream",
     "text": [
      "Unable to open the camera\n",
      "Camera open successfully\n",
      "1/1 [==============================] - 0s 38ms/step\n",
      "4\n",
      "Camera open successfully\n",
      "1/1 [==============================] - 0s 39ms/step\n",
      "4\n"
     ]
    }
   ],
   "source": [
    "root.mainloop()"
   ]
  },
  {
   "cell_type": "code",
   "execution_count": null,
   "metadata": {},
   "outputs": [],
   "source": []
  }
 ],
 "metadata": {
  "kernelspec": {
   "display_name": "Python 3",
   "language": "python",
   "name": "python3"
  },
  "language_info": {
   "codemirror_mode": {
    "name": "ipython",
    "version": 3
   },
   "file_extension": ".py",
   "mimetype": "text/x-python",
   "name": "python",
   "nbconvert_exporter": "python",
   "pygments_lexer": "ipython3",
   "version": "3.8.10"
  }
 },
 "nbformat": 4,
 "nbformat_minor": 2
}
