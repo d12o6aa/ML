{
 "cells": [
  {
   "cell_type": "code",
   "execution_count": 1,
   "metadata": {},
   "outputs": [
    {
     "name": "stderr",
     "output_type": "stream",
     "text": [
      "2024-11-24 11:31:00.171835: I tensorflow/core/util/port.cc:110] oneDNN custom operations are on. You may see slightly different numerical results due to floating-point round-off errors from different computation orders. To turn them off, set the environment variable `TF_ENABLE_ONEDNN_OPTS=0`.\n",
      "2024-11-24 11:31:00.208479: I tensorflow/tsl/cuda/cudart_stub.cc:28] Could not find cuda drivers on your machine, GPU will not be used.\n",
      "2024-11-24 11:31:00.463620: I tensorflow/tsl/cuda/cudart_stub.cc:28] Could not find cuda drivers on your machine, GPU will not be used.\n",
      "2024-11-24 11:31:00.467143: I tensorflow/core/platform/cpu_feature_guard.cc:182] This TensorFlow binary is optimized to use available CPU instructions in performance-critical operations.\n",
      "To enable the following instructions: AVX2 AVX_VNNI FMA, in other operations, rebuild TensorFlow with the appropriate compiler flags.\n",
      "2024-11-24 11:31:01.211297: W tensorflow/compiler/tf2tensorrt/utils/py_utils.cc:38] TF-TRT Warning: Could not find TensorRT\n",
      "2024-11-24 11:31:02.019427: E tensorflow/compiler/xla/stream_executor/cuda/cuda_driver.cc:268] failed call to cuInit: CUDA_ERROR_NO_DEVICE: no CUDA-capable device is detected\n"
     ]
    }
   ],
   "source": [
    "import tkinter as tk\n",
    "from tkinter import Label, Button\n",
    "import cv2\n",
    "import threading\n",
    "import numpy as np\n",
    "from tensorflow.keras.models import load_model\n",
    "model = load_model('/home/doaa/programming/ML/ML/Project/ModelTesting/model_file_30epochs.h5')\n",
    "import sys\n",
    "# sys.stdout.reconfigure(encoding='utf-8')"
   ]
  },
  {
   "cell_type": "code",
   "execution_count": 2,
   "metadata": {},
   "outputs": [],
   "source": [
    "def open_camera():\n",
    "    global cap\n",
    "    cap = cv2.VideoCapture(0)\n",
    "    faceDetect=cv2.CascadeClassifier('/home/doaa/programming/ML/ML/Project/ModelTesting/haarcascade_frontalface_default.xml')\n",
    "\n",
    "    labels_dict={0:'Angry',1:'Disgust', 2:'Fear', 3:'Happy',4:'Neutral',5:'Sad',6:'Surprise'}\n",
    "    if not cap.isOpened():\n",
    "        print(\"Unable to open the camera\")\n",
    "    else:\n",
    "        print(\"Camera open successfully\")\n",
    "    while cap.isOpened():\n",
    "        ret, frame = cap.read()\n",
    "        gray=cv2.cvtColor(frame, cv2.COLOR_BGR2GRAY)\n",
    "        faces= faceDetect.detectMultiScale(gray, 1.3, 3)\n",
    "        for x,y,w,h in faces:\n",
    "            sub_face_img=gray[y:y+h, x:x+w]\n",
    "            resized=cv2.resize(sub_face_img,(48,48))\n",
    "            normalize=resized/255.0\n",
    "            reshaped=np.reshape(normalize, (1, 48, 48, 1))\n",
    "            result=model.predict(reshaped)\n",
    "            label=np.argmax(result, axis=1)[0]\n",
    "            print(label)\n",
    "            cv2.rectangle(frame, (x,y), (x+w, y+h), (0,0,255), 1)\n",
    "            cv2.rectangle(frame,(x,y),(x+w,y+h),(50,50,255),2)\n",
    "            cv2.rectangle(frame,(x,y-40),(x+w,y),(50,50,255),-1)\n",
    "            cv2.putText(frame, labels_dict[label], (x, y-10),cv2.FONT_HERSHEY_SIMPLEX,0.8,(255,255,255),2)\n",
    "        # if ret :\n",
    "        cv2.imshow(\"Camera\", frame)\n",
    "        k=cv2.waitKey(1)\n",
    "        if k==ord('q'):\n",
    "            break\n",
    "    cap.release()\n",
    "    cv2.destroyAllWindows()"
   ]
  },
  {
   "cell_type": "code",
   "execution_count": 3,
   "metadata": {},
   "outputs": [],
   "source": [
    "def close_camera():\n",
    "    global cap\n",
    "    if cap.isOpened():\n",
    "        cap.release()\n",
    "    cv2.destroyAllWindows()"
   ]
  },
  {
   "cell_type": "code",
   "execution_count": 4,
   "metadata": {},
   "outputs": [
    {
     "data": {
      "text/plain": [
       "''"
      ]
     },
     "execution_count": 4,
     "metadata": {},
     "output_type": "execute_result"
    }
   ],
   "source": [
    "root = tk.Tk()\n",
    "root.title(\"ComSoc\")\n"
   ]
  },
  {
   "cell_type": "code",
   "execution_count": 5,
   "metadata": {},
   "outputs": [],
   "source": [
    "photo = tk.PhotoImage(file=\"/home/doaa/programming/ML/ML/Project/download11.png\")\n",
    "label = tk.Label(root,image=photo)\n",
    "label.image = photo\n",
    "label.pack()"
   ]
  },
  {
   "cell_type": "code",
   "execution_count": 6,
   "metadata": {},
   "outputs": [],
   "source": [
    "btn_open = Button(root,text=\"Open Camera\",\n",
    "                  command=lambda:threading.Thread(target=open_camera).start())\n",
    "btn_open.pack()"
   ]
  },
  {
   "cell_type": "code",
   "execution_count": 7,
   "metadata": {},
   "outputs": [],
   "source": [
    "btn_close = Button(root,\n",
    "                   text=\"Close Camera\",\n",
    "                   command=close_camera)\n",
    "btn_close.pack()"
   ]
  },
  {
   "cell_type": "code",
   "execution_count": 8,
   "metadata": {},
   "outputs": [
    {
     "name": "stdout",
     "output_type": "stream",
     "text": [
      "Camera open successfully\n",
      "1/1 [==============================] - 0s 126ms/step\n",
      "4\n",
      "1/1 [==============================] - 0s 18ms/step\n",
      "4\n",
      "1/1 [==============================] - 0s 17ms/step\n",
      "4\n",
      "1/1 [==============================] - 0s 17ms/step\n",
      "4\n",
      "1/1 [==============================] - 0s 26ms/step\n",
      "4\n",
      "1/1 [==============================] - 0s 22ms/step\n",
      "4\n",
      "1/1 [==============================] - 0s 19ms/step\n",
      "4\n",
      "1/1 [==============================] - 0s 25ms/step\n",
      "5\n",
      "1/1 [==============================] - 0s 20ms/step\n",
      "4\n",
      "1/1 [==============================] - 0s 25ms/step\n",
      "4\n",
      "1/1 [==============================] - 0s 19ms/step\n",
      "4\n",
      "1/1 [==============================] - 0s 20ms/step\n",
      "4\n",
      "1/1 [==============================] - 0s 18ms/step\n",
      "4\n",
      "1/1 [==============================] - 0s 19ms/step\n",
      "4\n",
      "1/1 [==============================] - 0s 20ms/step\n",
      "4\n",
      "1/1 [==============================] - 0s 26ms/step\n",
      "4\n",
      "1/1 [==============================] - 0s 19ms/step\n",
      "4\n",
      "1/1 [==============================] - 0s 18ms/step\n",
      "4\n",
      "1/1 [==============================] - 0s 21ms/step\n",
      "5\n",
      "1/1 [==============================] - 0s 21ms/step\n",
      "3\n",
      "1/1 [==============================] - 0s 22ms/step\n",
      "3\n",
      "1/1 [==============================] - 0s 21ms/step\n",
      "3\n",
      "1/1 [==============================] - 0s 21ms/step\n",
      "3\n",
      "1/1 [==============================] - 0s 19ms/step\n",
      "3\n",
      "1/1 [==============================] - 0s 19ms/step\n",
      "3\n",
      "1/1 [==============================] - 0s 21ms/step\n",
      "3\n",
      "1/1 [==============================] - 0s 35ms/step\n",
      "3\n",
      "1/1 [==============================] - 0s 18ms/step\n",
      "3\n",
      "1/1 [==============================] - 0s 20ms/step\n",
      "3\n",
      "1/1 [==============================] - 0s 19ms/step\n",
      "3\n",
      "1/1 [==============================] - 0s 19ms/step\n",
      "3\n",
      "1/1 [==============================] - 0s 17ms/step\n",
      "4\n",
      "1/1 [==============================] - 0s 18ms/step\n",
      "3\n",
      "1/1 [==============================] - 0s 21ms/step\n",
      "3\n",
      "1/1 [==============================] - 0s 19ms/step\n",
      "5\n",
      "1/1 [==============================] - 0s 18ms/step\n",
      "3\n",
      "1/1 [==============================] - 0s 20ms/step\n",
      "5\n",
      "1/1 [==============================] - 0s 19ms/step\n",
      "5\n",
      "1/1 [==============================] - 0s 22ms/step\n",
      "5\n",
      "1/1 [==============================] - 0s 18ms/step\n",
      "5\n",
      "1/1 [==============================] - 0s 18ms/step\n",
      "5\n",
      "1/1 [==============================] - 0s 22ms/step\n",
      "5\n",
      "1/1 [==============================] - 0s 20ms/step\n",
      "5\n",
      "1/1 [==============================] - 0s 18ms/step\n",
      "5\n",
      "1/1 [==============================] - 0s 17ms/step\n",
      "4\n",
      "1/1 [==============================] - 0s 27ms/step\n",
      "0\n",
      "1/1 [==============================] - 0s 18ms/step\n",
      "5\n"
     ]
    }
   ],
   "source": [
    "root.mainloop()"
   ]
  },
  {
   "cell_type": "code",
   "execution_count": null,
   "metadata": {},
   "outputs": [],
   "source": []
  }
 ],
 "metadata": {
  "kernelspec": {
   "display_name": "Python 3",
   "language": "python",
   "name": "python3"
  },
  "language_info": {
   "codemirror_mode": {
    "name": "ipython",
    "version": 3
   },
   "file_extension": ".py",
   "mimetype": "text/x-python",
   "name": "python",
   "nbconvert_exporter": "python",
   "pygments_lexer": "ipython3",
   "version": "3.8.10"
  }
 },
 "nbformat": 4,
 "nbformat_minor": 2
}
