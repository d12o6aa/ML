{
 "cells": [
  {
   "cell_type": "code",
   "execution_count": 1,
   "id": "ff17ef0f",
   "metadata": {
    "_cell_guid": "b1076dfc-b9ad-4769-8c92-a6c4dae69d19",
    "_uuid": "8f2839f25d086af736a60e9eeb907d3b93b6e0e5",
    "execution": {
     "iopub.execute_input": "2024-09-02T20:15:10.754847Z",
     "iopub.status.busy": "2024-09-02T20:15:10.754036Z",
     "iopub.status.idle": "2024-09-02T20:16:19.818757Z",
     "shell.execute_reply": "2024-09-02T20:16:19.817773Z"
    },
    "papermill": {
     "duration": 69.099033,
     "end_time": "2024-09-02T20:16:19.848582",
     "exception": false,
     "start_time": "2024-09-02T20:15:10.749549",
     "status": "completed"
    },
    "tags": []
   },
   "outputs": [],
   "source": [
    "# This Python 3 environment comes with many helpful analytics libraries installed\n",
    "# It is defined by the kaggle/python Docker image: https://github.com/kaggle/docker-python\n",
    "# For example, here's several helpful packages to load\n",
    "\n",
    "import numpy as np # linear algebra\n",
    "import pandas as pd # data processing, CSV file I/O (e.g. pd.read_csv)\n",
    "\n",
    "# Input data files are available in the read-only \"../input/\" directory\n",
    "# For example, running this (by clicking run or pressing Shift+Enter) will list all files under the input directory\n",
    "\n",
    "import os\n",
    "for dirname, _, filenames in os.walk('/kaggle/input'):\n",
    "    for filename in filenames:\n",
    "        print(os.path.join(dirname, filename))\n",
    "\n",
    "# You can write up to 20GB to the current directory (/kaggle/working/) that gets preserved as output when you create a version using \"Save & Run All\" \n",
    "# You can also write temporary files to /kaggle/temp/, but they won't be saved outside of the current session"
   ]
  },
  {
   "cell_type": "code",
   "execution_count": 5,
   "id": "fbc3e660",
   "metadata": {
    "execution": {
     "iopub.execute_input": "2024-09-02T20:16:20.095045Z",
     "iopub.status.busy": "2024-09-02T20:16:20.094486Z",
     "iopub.status.idle": "2024-09-02T20:16:32.572638Z",
     "shell.execute_reply": "2024-09-02T20:16:32.571620Z"
    },
    "papermill": {
     "duration": 12.592287,
     "end_time": "2024-09-02T20:16:32.574955",
     "exception": false,
     "start_time": "2024-09-02T20:16:19.982668",
     "status": "completed"
    },
    "tags": []
   },
   "outputs": [
    {
     "name": "stderr",
     "output_type": "stream",
     "text": [
      "2024-11-21 11:42:36.292179: I tensorflow/core/util/port.cc:110] oneDNN custom operations are on. You may see slightly different numerical results due to floating-point round-off errors from different computation orders. To turn them off, set the environment variable `TF_ENABLE_ONEDNN_OPTS=0`.\n",
      "2024-11-21 11:42:36.322767: I tensorflow/tsl/cuda/cudart_stub.cc:28] Could not find cuda drivers on your machine, GPU will not be used.\n",
      "2024-11-21 11:42:36.551194: I tensorflow/tsl/cuda/cudart_stub.cc:28] Could not find cuda drivers on your machine, GPU will not be used.\n",
      "2024-11-21 11:42:36.554254: I tensorflow/core/platform/cpu_feature_guard.cc:182] This TensorFlow binary is optimized to use available CPU instructions in performance-critical operations.\n",
      "To enable the following instructions: AVX2 AVX_VNNI FMA, in other operations, rebuild TensorFlow with the appropriate compiler flags.\n",
      "2024-11-21 11:42:37.839968: W tensorflow/compiler/tf2tensorrt/utils/py_utils.cc:38] TF-TRT Warning: Could not find TensorRT\n"
     ]
    }
   ],
   "source": [
    "from tensorflow.keras.preprocessing.image import ImageDataGenerator\n",
    "from keras.models import Sequential\n",
    "from keras.layers import Dense,Dropout,Flatten\n",
    "from keras.layers import Conv2D,MaxPooling2D\n",
    "import os"
   ]
  },
  {
   "cell_type": "code",
   "execution_count": 4,
   "id": "62a3e354",
   "metadata": {},
   "outputs": [
    {
     "name": "stdout",
     "output_type": "stream",
     "text": [
      "^C\n",
      "\u001b[31mERROR: Operation cancelled by user\u001b[0m\n",
      "Note: you may need to restart the kernel to use updated packages.\n"
     ]
    }
   ],
   "source": [
    "pip install tensorflow"
   ]
  },
  {
   "cell_type": "code",
   "execution_count": null,
   "id": "170f4ae2",
   "metadata": {},
   "outputs": [],
   "source": [
    "pip install keras"
   ]
  },
  {
   "cell_type": "code",
   "execution_count": 7,
   "id": "ae8c6b16",
   "metadata": {
    "execution": {
     "iopub.execute_input": "2024-09-02T20:16:32.808093Z",
     "iopub.status.busy": "2024-09-02T20:16:32.807422Z",
     "iopub.status.idle": "2024-09-02T20:16:38.096903Z",
     "shell.execute_reply": "2024-09-02T20:16:38.095976Z"
    },
    "papermill": {
     "duration": 5.406872,
     "end_time": "2024-09-02T20:16:38.099069",
     "exception": false,
     "start_time": "2024-09-02T20:16:32.692197",
     "status": "completed"
    },
    "tags": []
   },
   "outputs": [
    {
     "name": "stdout",
     "output_type": "stream",
     "text": [
      "Found 28821 images belonging to 7 classes.\n",
      "Found 7066 images belonging to 7 classes.\n"
     ]
    }
   ],
   "source": [
    "train_data_dir='images/train'\n",
    "validation_data_dir='images/validation'\n",
    "\n",
    "\n",
    "train_datagen = ImageDataGenerator(\n",
    "                    rescale=1./255,\n",
    "                    rotation_range=30,\n",
    "                    shear_range=0.3,\n",
    "                    zoom_range=0.3,\n",
    "                    horizontal_flip=True,\n",
    "                    fill_mode='nearest')\n",
    "\n",
    "validation_datagen = ImageDataGenerator(rescale=1./255)\n",
    "\n",
    "train_generator = train_datagen.flow_from_directory(\n",
    "                    train_data_dir,\n",
    "                    color_mode='grayscale',\n",
    "                    target_size=(48, 48),\n",
    "                    batch_size=32,\n",
    "                    class_mode='categorical',\n",
    "                    shuffle=True)\n",
    "\n",
    "validation_generator = validation_datagen.flow_from_directory(\n",
    "                    validation_data_dir,\n",
    "                    color_mode='grayscale',\n",
    "                    target_size=(48, 48),\n",
    "                    batch_size=32,\n",
    "                    class_mode='categorical',\n",
    "                    shuffle=True)\n"
   ]
  },
  {
   "cell_type": "code",
   "execution_count": 8,
   "id": "5b6623ef",
   "metadata": {
    "execution": {
     "iopub.execute_input": "2024-09-02T20:16:38.331262Z",
     "iopub.status.busy": "2024-09-02T20:16:38.330153Z",
     "iopub.status.idle": "2024-09-02T20:16:39.208600Z",
     "shell.execute_reply": "2024-09-02T20:16:39.207660Z"
    },
    "papermill": {
     "duration": 0.997199,
     "end_time": "2024-09-02T20:16:39.210932",
     "exception": false,
     "start_time": "2024-09-02T20:16:38.213733",
     "status": "completed"
    },
    "tags": []
   },
   "outputs": [
    {
     "name": "stderr",
     "output_type": "stream",
     "text": [
      "2024-11-21 11:51:46.022501: E tensorflow/compiler/xla/stream_executor/cuda/cuda_driver.cc:268] failed call to cuInit: CUDA_ERROR_NO_DEVICE: no CUDA-capable device is detected\n"
     ]
    },
    {
     "name": "stdout",
     "output_type": "stream",
     "text": [
      "Model: \"sequential\"\n",
      "_________________________________________________________________\n",
      " Layer (type)                Output Shape              Param #   \n",
      "=================================================================\n",
      " conv2d (Conv2D)             (None, 46, 46, 32)        320       \n",
      "                                                                 \n",
      " conv2d_1 (Conv2D)           (None, 44, 44, 64)        18496     \n",
      "                                                                 \n",
      " max_pooling2d (MaxPooling2  (None, 22, 22, 64)        0         \n",
      " D)                                                              \n",
      "                                                                 \n",
      " dropout (Dropout)           (None, 22, 22, 64)        0         \n",
      "                                                                 \n",
      " conv2d_2 (Conv2D)           (None, 20, 20, 128)       73856     \n",
      "                                                                 \n",
      " max_pooling2d_1 (MaxPoolin  (None, 10, 10, 128)       0         \n",
      " g2D)                                                            \n",
      "                                                                 \n",
      " dropout_1 (Dropout)         (None, 10, 10, 128)       0         \n",
      "                                                                 \n",
      " conv2d_3 (Conv2D)           (None, 8, 8, 256)         295168    \n",
      "                                                                 \n",
      " max_pooling2d_2 (MaxPoolin  (None, 4, 4, 256)         0         \n",
      " g2D)                                                            \n",
      "                                                                 \n",
      " dropout_2 (Dropout)         (None, 4, 4, 256)         0         \n",
      "                                                                 \n",
      " flatten (Flatten)           (None, 4096)              0         \n",
      "                                                                 \n",
      " dense (Dense)               (None, 512)               2097664   \n",
      "                                                                 \n",
      " dropout_3 (Dropout)         (None, 512)               0         \n",
      "                                                                 \n",
      " dense_1 (Dense)             (None, 7)                 3591      \n",
      "                                                                 \n",
      "=================================================================\n",
      "Total params: 2489095 (9.50 MB)\n",
      "Trainable params: 2489095 (9.50 MB)\n",
      "Non-trainable params: 0 (0.00 Byte)\n",
      "_________________________________________________________________\n",
      "None\n"
     ]
    }
   ],
   "source": [
    "model = Sequential()\n",
    "\n",
    "model.add(Conv2D(32, kernel_size=(3, 3), activation='relu', input_shape=(48,48,1)))\n",
    "\n",
    "model.add(Conv2D(64, kernel_size=(3, 3), activation='relu'))\n",
    "model.add(MaxPooling2D(pool_size=(2, 2)))\n",
    "model.add(Dropout(0.1))\n",
    "\n",
    "model.add(Conv2D(128, kernel_size=(3, 3), activation='relu'))\n",
    "model.add(MaxPooling2D(pool_size=(2, 2)))\n",
    "model.add(Dropout(0.1))\n",
    "\n",
    "model.add(Conv2D(256, kernel_size=(3, 3), activation='relu'))\n",
    "model.add(MaxPooling2D(pool_size=(2, 2)))\n",
    "model.add(Dropout(0.1))\n",
    "\n",
    "model.add(Flatten())\n",
    "model.add(Dense(512, activation='relu'))\n",
    "model.add(Dropout(0.2))\n",
    "\n",
    "model.add(Dense(7, activation='softmax'))\n",
    "\n",
    "model.compile(optimizer = 'adam', loss='categorical_crossentropy', metrics=['accuracy'])\n",
    "print(model.summary())"
   ]
  },
  {
   "cell_type": "code",
   "execution_count": 9,
   "id": "62ce0b95",
   "metadata": {
    "execution": {
     "iopub.execute_input": "2024-09-02T20:16:39.467505Z",
     "iopub.status.busy": "2024-09-02T20:16:39.467077Z",
     "iopub.status.idle": "2024-09-02T20:16:42.952781Z",
     "shell.execute_reply": "2024-09-02T20:16:42.951430Z"
    },
    "papermill": {
     "duration": 3.614618,
     "end_time": "2024-09-02T20:16:42.955368",
     "exception": false,
     "start_time": "2024-09-02T20:16:39.340750",
     "status": "completed"
    },
    "tags": []
   },
   "outputs": [
    {
     "name": "stdout",
     "output_type": "stream",
     "text": [
      "28821\n",
      "7066\n"
     ]
    }
   ],
   "source": [
    "num_train_imgs = 0\n",
    "for root, dirs, files in os.walk(train_data_dir):\n",
    "    num_train_imgs += len(files)\n",
    "    \n",
    "num_test_imgs = 0\n",
    "for root, dirs, files in os.walk(validation_data_dir):\n",
    "    num_test_imgs += len(files)\n",
    "\n",
    "print(num_train_imgs)\n",
    "print(num_test_imgs)\n",
    "epochs=30"
   ]
  },
  {
   "cell_type": "code",
   "execution_count": 10,
   "id": "82634f39",
   "metadata": {
    "execution": {
     "iopub.execute_input": "2024-09-02T20:16:43.217614Z",
     "iopub.status.busy": "2024-09-02T20:16:43.216682Z",
     "iopub.status.idle": "2024-09-02T20:31:01.962029Z",
     "shell.execute_reply": "2024-09-02T20:31:01.961046Z"
    },
    "papermill": {
     "duration": 858.875581,
     "end_time": "2024-09-02T20:31:01.963985",
     "exception": false,
     "start_time": "2024-09-02T20:16:43.088404",
     "status": "completed"
    },
    "tags": []
   },
   "outputs": [
    {
     "name": "stdout",
     "output_type": "stream",
     "text": [
      "Epoch 1/30\n",
      "900/900 [==============================] - 131s 145ms/step - loss: 1.7720 - accuracy: 0.2687 - val_loss: 1.6735 - val_accuracy: 0.3293\n",
      "Epoch 2/30\n",
      "900/900 [==============================] - 127s 142ms/step - loss: 1.6444 - accuracy: 0.3483 - val_loss: 1.4662 - val_accuracy: 0.4369\n",
      "Epoch 3/30\n",
      "900/900 [==============================] - 127s 141ms/step - loss: 1.5095 - accuracy: 0.4099 - val_loss: 1.3330 - val_accuracy: 0.4898\n",
      "Epoch 4/30\n",
      "900/900 [==============================] - 138s 153ms/step - loss: 1.4178 - accuracy: 0.4564 - val_loss: 1.2610 - val_accuracy: 0.5210\n",
      "Epoch 5/30\n",
      "900/900 [==============================] - 130s 144ms/step - loss: 1.3632 - accuracy: 0.4764 - val_loss: 1.1933 - val_accuracy: 0.5469\n",
      "Epoch 6/30\n",
      "900/900 [==============================] - 135s 150ms/step - loss: 1.3223 - accuracy: 0.4964 - val_loss: 1.2042 - val_accuracy: 0.5369\n",
      "Epoch 7/30\n",
      "900/900 [==============================] - 137s 152ms/step - loss: 1.3003 - accuracy: 0.5055 - val_loss: 1.1599 - val_accuracy: 0.5622\n",
      "Epoch 8/30\n",
      "900/900 [==============================] - 142s 157ms/step - loss: 1.2799 - accuracy: 0.5108 - val_loss: 1.1402 - val_accuracy: 0.5631\n",
      "Epoch 9/30\n",
      "900/900 [==============================] - 135s 150ms/step - loss: 1.2641 - accuracy: 0.5191 - val_loss: 1.1600 - val_accuracy: 0.5608\n",
      "Epoch 10/30\n",
      "900/900 [==============================] - 142s 158ms/step - loss: 1.2502 - accuracy: 0.5242 - val_loss: 1.1634 - val_accuracy: 0.5594\n",
      "Epoch 11/30\n",
      "900/900 [==============================] - 119s 132ms/step - loss: 1.2324 - accuracy: 0.5300 - val_loss: 1.1359 - val_accuracy: 0.5730\n",
      "Epoch 12/30\n",
      "900/900 [==============================] - 95s 105ms/step - loss: 1.2190 - accuracy: 0.5350 - val_loss: 1.1245 - val_accuracy: 0.5733\n",
      "Epoch 13/30\n",
      "900/900 [==============================] - 124s 138ms/step - loss: 1.2120 - accuracy: 0.5402 - val_loss: 1.1090 - val_accuracy: 0.5841\n",
      "Epoch 14/30\n",
      "900/900 [==============================] - 137s 153ms/step - loss: 1.2015 - accuracy: 0.5363 - val_loss: 1.0887 - val_accuracy: 0.5895\n",
      "Epoch 15/30\n",
      "900/900 [==============================] - 121s 134ms/step - loss: 1.1988 - accuracy: 0.5419 - val_loss: 1.0901 - val_accuracy: 0.5923\n",
      "Epoch 16/30\n",
      "900/900 [==============================] - 94s 105ms/step - loss: 1.1872 - accuracy: 0.5472 - val_loss: 1.0989 - val_accuracy: 0.5854\n",
      "Epoch 17/30\n",
      "900/900 [==============================] - 104s 116ms/step - loss: 1.1820 - accuracy: 0.5484 - val_loss: 1.0686 - val_accuracy: 0.5969\n",
      "Epoch 18/30\n",
      "900/900 [==============================] - 137s 152ms/step - loss: 1.1760 - accuracy: 0.5549 - val_loss: 1.0934 - val_accuracy: 0.5933\n",
      "Epoch 19/30\n",
      "900/900 [==============================] - 139s 155ms/step - loss: 1.1685 - accuracy: 0.5535 - val_loss: 1.0796 - val_accuracy: 0.5918\n",
      "Epoch 20/30\n",
      "900/900 [==============================] - 123s 137ms/step - loss: 1.1576 - accuracy: 0.5584 - val_loss: 1.0801 - val_accuracy: 0.5943\n",
      "Epoch 21/30\n",
      "900/900 [==============================] - 120s 133ms/step - loss: 1.1606 - accuracy: 0.5603 - val_loss: 1.0677 - val_accuracy: 0.5982\n",
      "Epoch 22/30\n",
      "900/900 [==============================] - 141s 157ms/step - loss: 1.1432 - accuracy: 0.5669 - val_loss: 1.0643 - val_accuracy: 0.6017\n",
      "Epoch 23/30\n",
      "900/900 [==============================] - 126s 140ms/step - loss: 1.1484 - accuracy: 0.5655 - val_loss: 1.0808 - val_accuracy: 0.5932\n",
      "Epoch 24/30\n",
      "900/900 [==============================] - 124s 138ms/step - loss: 1.1434 - accuracy: 0.5653 - val_loss: 1.0654 - val_accuracy: 0.6021\n",
      "Epoch 25/30\n",
      "900/900 [==============================] - 113s 125ms/step - loss: 1.1406 - accuracy: 0.5679 - val_loss: 1.0591 - val_accuracy: 0.6048\n",
      "Epoch 26/30\n",
      "900/900 [==============================] - 142s 157ms/step - loss: 1.1398 - accuracy: 0.5669 - val_loss: 1.0538 - val_accuracy: 0.5989\n",
      "Epoch 27/30\n",
      "900/900 [==============================] - 124s 138ms/step - loss: 1.1291 - accuracy: 0.5707 - val_loss: 1.0592 - val_accuracy: 0.6124\n",
      "Epoch 28/30\n",
      "900/900 [==============================] - 98s 109ms/step - loss: 1.1264 - accuracy: 0.5757 - val_loss: 1.0686 - val_accuracy: 0.6031\n",
      "Epoch 29/30\n",
      "900/900 [==============================] - 137s 152ms/step - loss: 1.1253 - accuracy: 0.5725 - val_loss: 1.0457 - val_accuracy: 0.6109\n",
      "Epoch 30/30\n",
      "900/900 [==============================] - 146s 162ms/step - loss: 1.1191 - accuracy: 0.5723 - val_loss: 1.0299 - val_accuracy: 0.6169\n"
     ]
    }
   ],
   "source": [
    "history=model.fit(train_generator,\n",
    "                steps_per_epoch=num_train_imgs//32,\n",
    "                epochs=epochs,\n",
    "                validation_data=validation_generator,\n",
    "                validation_steps=num_test_imgs//32)"
   ]
  },
  {
   "cell_type": "code",
   "execution_count": 11,
   "id": "dd773d6b",
   "metadata": {
    "execution": {
     "iopub.execute_input": "2024-09-02T20:31:03.469416Z",
     "iopub.status.busy": "2024-09-02T20:31:03.468435Z",
     "iopub.status.idle": "2024-09-02T20:31:09.868561Z",
     "shell.execute_reply": "2024-09-02T20:31:09.867482Z"
    },
    "papermill": {
     "duration": 7.1348,
     "end_time": "2024-09-02T20:31:09.870621",
     "exception": false,
     "start_time": "2024-09-02T20:31:02.735821",
     "status": "completed"
    },
    "tags": []
   },
   "outputs": [
    {
     "name": "stdout",
     "output_type": "stream",
     "text": [
      "220/220 [==============================] - 13s 58ms/step - loss: 1.0307 - accuracy: 0.6165\n",
      "Validation Loss: 1.0306732654571533\n",
      "Validation Accuracy: 0.6164772510528564\n"
     ]
    }
   ],
   "source": [
    "results = model.evaluate(validation_generator, steps=validation_generator.samples // validation_generator.batch_size)\n",
    "print(f\"Validation Loss: {results[0]}\")\n",
    "print(f\"Validation Accuracy: {results[1]}\")\n"
   ]
  },
  {
   "cell_type": "code",
   "execution_count": null,
   "id": "fa8b4cb5",
   "metadata": {},
   "outputs": [],
   "source": []
  }
 ],
 "metadata": {
  "kaggle": {
   "accelerator": "gpu",
   "dataSources": [
    {
     "datasetId": 99505,
     "sourceId": 234911,
     "sourceType": "datasetVersion"
    }
   ],
   "dockerImageVersionId": 30762,
   "isGpuEnabled": true,
   "isInternetEnabled": true,
   "language": "python",
   "sourceType": "notebook"
  },
  "kernelspec": {
   "display_name": "Python 3",
   "language": "python",
   "name": "python3"
  },
  "language_info": {
   "codemirror_mode": {
    "name": "ipython",
    "version": 3
   },
   "file_extension": ".py",
   "mimetype": "text/x-python",
   "name": "python",
   "nbconvert_exporter": "python",
   "pygments_lexer": "ipython3",
   "version": "3.8.10"
  },
  "papermill": {
   "default_parameters": {},
   "duration": 965.301348,
   "end_time": "2024-09-02T20:31:13.257930",
   "environment_variables": {},
   "exception": null,
   "input_path": "__notebook__.ipynb",
   "output_path": "__notebook__.ipynb",
   "parameters": {},
   "start_time": "2024-09-02T20:15:07.956582",
   "version": "2.6.0"
  }
 },
 "nbformat": 4,
 "nbformat_minor": 5
}
